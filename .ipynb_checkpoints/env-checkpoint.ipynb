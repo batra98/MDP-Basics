{
 "cells": [
  {
   "cell_type": "code",
   "execution_count": 3,
   "metadata": {},
   "outputs": [
    {
     "ename": "SyntaxError",
     "evalue": "unexpected EOF while parsing (<ipython-input-3-f236f3fbe242>, line 26)",
     "output_type": "error",
     "traceback": [
      "\u001b[0;36m  File \u001b[0;32m\"<ipython-input-3-f236f3fbe242>\"\u001b[0;36m, line \u001b[0;32m26\u001b[0m\n\u001b[0;31m    \u001b[0m\n\u001b[0m    ^\u001b[0m\n\u001b[0;31mSyntaxError\u001b[0m\u001b[0;31m:\u001b[0m unexpected EOF while parsing\n"
     ]
    }
   ],
   "source": [
    "from abc import ABC, abstractmethod\n",
    "import numpy as np\n",
    "\n",
    "class DiscreteEnvironment(ABC):\n",
    "    def __init__(self):\n",
    "        self.nstates = 64\n",
    "        self.actions = [np.array([0,-1]),np.array(-1,0),np.array(0,1),np.array(1,0)]\n",
    "        self.action_prob = 0.25\n",
    "        self.reward_non_terminal = -1\n",
    "        self.reward_terminal = 0\n",
    "    \n",
    "    @abstractmethod\n",
    "    def step(self,state,action):\n",
    "        pass\n",
    "    \n",
    "    @abstractmethod\n",
    "    def reset(self):\n",
    "        pass\n",
    "    \n",
    "    @abstractmethod\n",
    "    def is_terminal(state):\n",
    "        pass\n",
    "    \n",
    "class Grid_1(DiscreteEnvironment):\n",
    "    \n",
    "    def step(self,state,action):\n",
    "        if is_terminal(state):\n",
    "            return state, self.reward_terminal\n",
    "        \n",
    "        \n",
    "        next_state = [(np.array(state)+action)]\n",
    "        x,y = next_state\n",
    "        \n",
    "        if x<0 or x >= self.nstates or y<0 or y >= self.nstates:\n",
    "            next_state = state\n",
    "            \n",
    "        return next_state,self.reward_terminal\n",
    "        "
   ]
  }
 ],
 "metadata": {
  "kernelspec": {
   "display_name": "Python 3",
   "language": "python",
   "name": "python3"
  },
  "language_info": {
   "codemirror_mode": {
    "name": "ipython",
    "version": 3
   },
   "file_extension": ".py",
   "mimetype": "text/x-python",
   "name": "python",
   "nbconvert_exporter": "python",
   "pygments_lexer": "ipython3",
   "version": "3.6.7"
  }
 },
 "nbformat": 4,
 "nbformat_minor": 2
}
